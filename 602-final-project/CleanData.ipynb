{
 "cells": [
  {
   "cell_type": "code",
   "execution_count": 1,
   "metadata": {},
   "outputs": [],
   "source": [
    "import numpy as np\n",
    "import pandas as pd\n",
    "from datetime import datetime as dt\n",
    "# !pip install pandas_datareader\n",
    "import pandas_datareader.data as web\n",
    "\n",
    "from sklearn.model_selection import train_test_split\n",
    "from sklearn.neighbors import KNeighborsClassifier\n",
    "from sklearn.metrics import confusion_matrix\n",
    "\n",
    "import matplotlib.pyplot as plt\n",
    "plt.style.use('ggplot')\n",
    "\n",
    "from sklearn.preprocessing import StandardScaler\n",
    "from sklearn.svm import SVC\n",
    "from sklearn import metrics\n",
    "from sklearn.model_selection import cross_val_score"
   ]
  },
  {
   "cell_type": "code",
   "execution_count": 2,
   "metadata": {},
   "outputs": [],
   "source": [
    "rawCovid = pd.read_csv(\"covid.csv\")\n",
    "variables = [\"submission_date\", \"tot_cases\", \"new_case\", \"tot_death\", \"new_death\"]\n",
    "covid = rawCovid.loc[:,variables]"
   ]
  },
  {
   "cell_type": "code",
   "execution_count": 3,
   "metadata": {},
   "outputs": [],
   "source": [
    "covid[\"submission_date\"] = pd.to_datetime(covid[\"submission_date\"])\n",
    "covid.rename(columns={\"submission_date\":\"Date\"}, inplace=True)"
   ]
  },
  {
   "cell_type": "code",
   "execution_count": 4,
   "metadata": {},
   "outputs": [],
   "source": [
    "weeklyCovid = covid.groupby(pd.Grouper(key = \"Date\", freq =\"W\")).sum()\n",
    "weeklyCovid.reset_index(inplace=True)\n",
    "\n",
    "weeklyCovid[\"case_change\"] = weeklyCovid[\"tot_cases\"].diff().fillna(0)/weeklyCovid[\"tot_cases\"]\n",
    "weeklyCovid[\"death_change\"] = weeklyCovid[\"tot_death\"].diff().fillna(0)/weeklyCovid[\"tot_death\"]\n",
    "weeklyCovid[\"death_change\"].fillna(0, inplace=True)\n"
   ]
  },
  {
   "cell_type": "code",
   "execution_count": 5,
   "metadata": {},
   "outputs": [],
   "source": [
    "bioStock = [\"FBRX\", \"TRIL\", \"CODX\", \"ALIM\", \"BTAI\"]\n",
    "pharmStock = [\"ABT\", \"RCUS\", \"LLY\", \"ELAN\", \"MRK\"]\n",
    "techStocks = [\"BILI\", \"CCOI\", \"CHT\"]\n",
    "energyStocks = [\"CVX\",\"XOM\",\"KMI\",\"WMB\",\"LNG\"]\n",
    "retailStocks = [\"WMT\",\"AMZN\",\"COST\",\"BIG\",\"ACI\"]\n",
    "consumerStaplesStocks= ['VDC', 'VCSAX']\n",
    "utilityStocks= [ 'VUIAX', 'VPU']\n",
    "realEstateStocks = ['AMT', 'PLD', 'EQIX', 'BAM', 'ZG']\n",
    "healthCareStocks = ['JNJ', 'MDT', 'NVS', 'PFE', 'GSK']\n",
    "# please create lists of your stocks' ticker symbols\n"
   ]
  },
  {
   "cell_type": "code",
   "execution_count": 6,
   "metadata": {},
   "outputs": [],
   "source": [
    "# please add your lists to tickerSymbol\n",
    "tickerSymbol = bioStock + pharmStock + techStocks + energyStocks + retailStocks + consumerStaplesStocks + utilityStocks + realEstateStocks + healthCareStocks\n",
    "# + \"your lists\""
   ]
  },
  {
   "cell_type": "code",
   "execution_count": 7,
   "metadata": {
    "scrolled": true
   },
   "outputs": [],
   "source": [
    "start = \"2020-01-22\"\n",
    "end = dt.now()\n",
    "\n",
    "stocks = pd.DataFrame()\n",
    "sc_df = pd.DataFrame()\n",
    "\n",
    "for i in tickerSymbol:\n",
    "    df = web.DataReader(i, \"yahoo\", start, end)\n",
    "    df.reset_index(inplace=True)\n",
    "\n",
    "    weeklyPrice = df.groupby([pd.Grouper(key=\"Date\", freq=\"W\")]).mean()\n",
    "    weeklyPrice[\"Stock\"] = i\n",
    "    weeklyPrice.reset_index(inplace=True)\n",
    "    \n",
    "    stocks = stocks.append(weeklyPrice[[\"Adj Close\", \"Date\", \"Stock\"]],\n",
    "                          ignore_index = True)\n",
    "    stocks[\"stock_price_change\"] = stocks[\"Adj Close\"].diff().fillna(0)\n",
    "    \n",
    "    sc_df = pd.merge(stocks, weeklyCovid, on=\"Date\")"
   ]
  },
  {
   "cell_type": "code",
   "execution_count": 14,
   "metadata": {},
   "outputs": [],
   "source": [
    "sc_df[\"Category\"] = \"\"\n",
    "sc_df.loc[sc_df[\"Stock\"].isin(bioStock), \"Category\"] = 0\n",
    "sc_df.loc[sc_df[\"Stock\"].isin(pharmStock), \"Category\"] = 1\n",
    "sc_df.loc[sc_df[\"Stock\"].isin(techStocks), \"Category\"] = 2\n",
    "sc_df.loc[sc_df[\"Stock\"].isin(energyStocks), \"Category\"] = 3\n",
    "sc_df.loc[sc_df[\"Stock\"].isin(retailStocks), \"Category\"] = 4\n",
    "sc_df.loc[sc_df[\"Stock\"].isin(consumerStaplesStocks), \"Category\"] = 5\n",
    "sc_df.loc[sc_df[\"Stock\"].isin(utilityStocks), \"Category\"] = 6\n",
    "sc_df.loc[sc_df[\"Stock\"].isin(realEstateStocks), \"Category\"] = 7\n",
    "sc_df.loc[sc_df[\"Stock\"].isin(healthCareStocks), \"Category\"] = 8\n",
    "\n",
    "# please add your stocks' categories\n"
   ]
  },
  {
   "cell_type": "code",
   "execution_count": 15,
   "metadata": {},
   "outputs": [],
   "source": [
    "sc_df[\"Rise/Fall\"] = \"\"\n",
    "sc_df.loc[sc_df[\"stock_price_change\"]>0, \"Rise/Fall\"] = \"1\"\n",
    "sc_df.loc[sc_df[\"stock_price_change\"]<0, \"Rise/Fall\"] = \"-1\"\n",
    "sc_df.loc[sc_df[\"stock_price_change\"]==0, \"Rise/Fall\"] = np.nan\n",
    "\n",
    "sc_df.dropna(inplace=True)\n",
    "\n",
    "\n"
   ]
  },
  {
   "cell_type": "code",
   "execution_count": 16,
   "metadata": {},
   "outputs": [
    {
     "data": {
      "text/html": [
       "<div>\n",
       "<style scoped>\n",
       "    .dataframe tbody tr th:only-of-type {\n",
       "        vertical-align: middle;\n",
       "    }\n",
       "\n",
       "    .dataframe tbody tr th {\n",
       "        vertical-align: top;\n",
       "    }\n",
       "\n",
       "    .dataframe thead th {\n",
       "        text-align: right;\n",
       "    }\n",
       "</style>\n",
       "<table border=\"1\" class=\"dataframe\">\n",
       "  <thead>\n",
       "    <tr style=\"text-align: right;\">\n",
       "      <th></th>\n",
       "      <th>Adj Close</th>\n",
       "      <th>Date</th>\n",
       "      <th>Stock</th>\n",
       "      <th>stock_price_change</th>\n",
       "      <th>tot_cases</th>\n",
       "      <th>new_case</th>\n",
       "      <th>tot_death</th>\n",
       "      <th>new_death</th>\n",
       "      <th>case_change</th>\n",
       "      <th>death_change</th>\n",
       "      <th>Category</th>\n",
       "      <th>Rise/Fall</th>\n",
       "    </tr>\n",
       "  </thead>\n",
       "  <tbody>\n",
       "    <tr>\n",
       "      <th>1</th>\n",
       "      <td>3.996667</td>\n",
       "      <td>2020-01-26</td>\n",
       "      <td>TRIL</td>\n",
       "      <td>-30.443334</td>\n",
       "      <td>1</td>\n",
       "      <td>1.0</td>\n",
       "      <td>0</td>\n",
       "      <td>0.0</td>\n",
       "      <td>0.000000</td>\n",
       "      <td>0.000000</td>\n",
       "      <td>0</td>\n",
       "      <td>-1</td>\n",
       "    </tr>\n",
       "    <tr>\n",
       "      <th>2</th>\n",
       "      <td>1.680000</td>\n",
       "      <td>2020-01-26</td>\n",
       "      <td>CODX</td>\n",
       "      <td>-11.910000</td>\n",
       "      <td>1</td>\n",
       "      <td>1.0</td>\n",
       "      <td>0</td>\n",
       "      <td>0.0</td>\n",
       "      <td>0.000000</td>\n",
       "      <td>0.000000</td>\n",
       "      <td>0</td>\n",
       "      <td>-1</td>\n",
       "    </tr>\n",
       "    <tr>\n",
       "      <th>3</th>\n",
       "      <td>7.433333</td>\n",
       "      <td>2020-01-26</td>\n",
       "      <td>ALIM</td>\n",
       "      <td>-5.461667</td>\n",
       "      <td>1</td>\n",
       "      <td>1.0</td>\n",
       "      <td>0</td>\n",
       "      <td>0.0</td>\n",
       "      <td>0.000000</td>\n",
       "      <td>0.000000</td>\n",
       "      <td>0</td>\n",
       "      <td>-1</td>\n",
       "    </tr>\n",
       "    <tr>\n",
       "      <th>4</th>\n",
       "      <td>17.196667</td>\n",
       "      <td>2020-01-26</td>\n",
       "      <td>BTAI</td>\n",
       "      <td>12.919167</td>\n",
       "      <td>1</td>\n",
       "      <td>1.0</td>\n",
       "      <td>0</td>\n",
       "      <td>0.0</td>\n",
       "      <td>0.000000</td>\n",
       "      <td>0.000000</td>\n",
       "      <td>0</td>\n",
       "      <td>1</td>\n",
       "    </tr>\n",
       "    <tr>\n",
       "      <th>5</th>\n",
       "      <td>89.964806</td>\n",
       "      <td>2020-01-26</td>\n",
       "      <td>ABT</td>\n",
       "      <td>34.397305</td>\n",
       "      <td>1</td>\n",
       "      <td>1.0</td>\n",
       "      <td>0</td>\n",
       "      <td>0.0</td>\n",
       "      <td>0.000000</td>\n",
       "      <td>0.000000</td>\n",
       "      <td>1</td>\n",
       "      <td>1</td>\n",
       "    </tr>\n",
       "    <tr>\n",
       "      <th>...</th>\n",
       "      <td>...</td>\n",
       "      <td>...</td>\n",
       "      <td>...</td>\n",
       "      <td>...</td>\n",
       "      <td>...</td>\n",
       "      <td>...</td>\n",
       "      <td>...</td>\n",
       "      <td>...</td>\n",
       "      <td>...</td>\n",
       "      <td>...</td>\n",
       "      <td>...</td>\n",
       "      <td>...</td>\n",
       "    </tr>\n",
       "    <tr>\n",
       "      <th>1527</th>\n",
       "      <td>139.719998</td>\n",
       "      <td>2020-11-08</td>\n",
       "      <td>JNJ</td>\n",
       "      <td>-0.236002</td>\n",
       "      <td>1161657</td>\n",
       "      <td>10032.0</td>\n",
       "      <td>25108</td>\n",
       "      <td>53.0</td>\n",
       "      <td>-5.808244</td>\n",
       "      <td>-5.920225</td>\n",
       "      <td>8</td>\n",
       "      <td>-1</td>\n",
       "    </tr>\n",
       "    <tr>\n",
       "      <th>1528</th>\n",
       "      <td>103.117999</td>\n",
       "      <td>2020-11-08</td>\n",
       "      <td>MDT</td>\n",
       "      <td>-0.416000</td>\n",
       "      <td>1161657</td>\n",
       "      <td>10032.0</td>\n",
       "      <td>25108</td>\n",
       "      <td>53.0</td>\n",
       "      <td>-5.808244</td>\n",
       "      <td>-5.920225</td>\n",
       "      <td>8</td>\n",
       "      <td>-1</td>\n",
       "    </tr>\n",
       "    <tr>\n",
       "      <th>1529</th>\n",
       "      <td>82.706001</td>\n",
       "      <td>2020-11-08</td>\n",
       "      <td>NVS</td>\n",
       "      <td>2.778001</td>\n",
       "      <td>1161657</td>\n",
       "      <td>10032.0</td>\n",
       "      <td>25108</td>\n",
       "      <td>53.0</td>\n",
       "      <td>-5.808244</td>\n",
       "      <td>-5.920225</td>\n",
       "      <td>8</td>\n",
       "      <td>1</td>\n",
       "    </tr>\n",
       "    <tr>\n",
       "      <th>1530</th>\n",
       "      <td>36.284561</td>\n",
       "      <td>2020-11-08</td>\n",
       "      <td>PFE</td>\n",
       "      <td>0.342198</td>\n",
       "      <td>1161657</td>\n",
       "      <td>10032.0</td>\n",
       "      <td>25108</td>\n",
       "      <td>53.0</td>\n",
       "      <td>-5.808244</td>\n",
       "      <td>-5.920225</td>\n",
       "      <td>8</td>\n",
       "      <td>1</td>\n",
       "    </tr>\n",
       "    <tr>\n",
       "      <th>1531</th>\n",
       "      <td>35.518526</td>\n",
       "      <td>2020-11-08</td>\n",
       "      <td>GSK</td>\n",
       "      <td>1.573818</td>\n",
       "      <td>1161657</td>\n",
       "      <td>10032.0</td>\n",
       "      <td>25108</td>\n",
       "      <td>53.0</td>\n",
       "      <td>-5.808244</td>\n",
       "      <td>-5.920225</td>\n",
       "      <td>8</td>\n",
       "      <td>1</td>\n",
       "    </tr>\n",
       "  </tbody>\n",
       "</table>\n",
       "<p>1531 rows × 12 columns</p>\n",
       "</div>"
      ],
      "text/plain": [
       "       Adj Close       Date Stock  stock_price_change  tot_cases  new_case  \\\n",
       "1       3.996667 2020-01-26  TRIL          -30.443334          1       1.0   \n",
       "2       1.680000 2020-01-26  CODX          -11.910000          1       1.0   \n",
       "3       7.433333 2020-01-26  ALIM           -5.461667          1       1.0   \n",
       "4      17.196667 2020-01-26  BTAI           12.919167          1       1.0   \n",
       "5      89.964806 2020-01-26   ABT           34.397305          1       1.0   \n",
       "...          ...        ...   ...                 ...        ...       ...   \n",
       "1527  139.719998 2020-11-08   JNJ           -0.236002    1161657   10032.0   \n",
       "1528  103.117999 2020-11-08   MDT           -0.416000    1161657   10032.0   \n",
       "1529   82.706001 2020-11-08   NVS            2.778001    1161657   10032.0   \n",
       "1530   36.284561 2020-11-08   PFE            0.342198    1161657   10032.0   \n",
       "1531   35.518526 2020-11-08   GSK            1.573818    1161657   10032.0   \n",
       "\n",
       "      tot_death  new_death  case_change  death_change Category Rise/Fall  \n",
       "1             0        0.0     0.000000      0.000000        0        -1  \n",
       "2             0        0.0     0.000000      0.000000        0        -1  \n",
       "3             0        0.0     0.000000      0.000000        0        -1  \n",
       "4             0        0.0     0.000000      0.000000        0         1  \n",
       "5             0        0.0     0.000000      0.000000        1         1  \n",
       "...         ...        ...          ...           ...      ...       ...  \n",
       "1527      25108       53.0    -5.808244     -5.920225        8        -1  \n",
       "1528      25108       53.0    -5.808244     -5.920225        8        -1  \n",
       "1529      25108       53.0    -5.808244     -5.920225        8         1  \n",
       "1530      25108       53.0    -5.808244     -5.920225        8         1  \n",
       "1531      25108       53.0    -5.808244     -5.920225        8         1  \n",
       "\n",
       "[1531 rows x 12 columns]"
      ]
     },
     "execution_count": 16,
     "metadata": {},
     "output_type": "execute_result"
    }
   ],
   "source": [
    "sc_df"
   ]
  },
  {
   "cell_type": "code",
   "execution_count": 17,
   "metadata": {},
   "outputs": [],
   "source": [
    "## KNN \n",
    "# \n",
    "X = sc_df.drop(columns=['Adj Close','Date','Stock','stock_price_change','Rise/Fall'],axis=1).values\n",
    "y = sc_df['Rise/Fall'].values\n",
    "\n",
    "\n",
    "\n",
    "#Splitting into test and train\n",
    "X_train,X_test,y_train,y_test = train_test_split(X,y,test_size=0.2,random_state=42, stratify=y)\n",
    "\n",
    "\n",
    "#Arrays to store data accuracy\n",
    "neighbors = np.arange(1,9)\n",
    "train_accuracy =np.empty(len(neighbors))\n",
    "test_accuracy = np.empty(len(neighbors))\n",
    "\n",
    "\n",
    "for i,k in enumerate(neighbors):\n",
    "    knn = KNeighborsClassifier(n_neighbors=k)\n",
    "    knn.fit(X_train, y_train)\n",
    "    \n",
    "    train_accuracy[i] = knn.score(X_train, y_train)\n",
    "    test_accuracy[i] = knn.score(X_test, y_test) \n"
   ]
  },
  {
   "cell_type": "code",
   "execution_count": 18,
   "metadata": {},
   "outputs": [
    {
     "data": {
      "image/png": "[encoded data removed]",
      "text/plain": [
       "<Figure size 432x288 with 1 Axes>"
      ]
     },
     "metadata": {},
     "output_type": "display_data"
    }
   ],
   "source": [
    "#Generate plot\n",
    "plt.title('k-NN Varying number of neighbors')\n",
    "plt.plot(neighbors, test_accuracy, label='Testing Accuracy')\n",
    "plt.plot(neighbors, train_accuracy, label='Training accuracy')\n",
    "plt.legend()\n",
    "plt.xlabel('Number of neighbors')\n",
    "plt.ylabel('Accuracy')\n",
    "plt.show()"
   ]
  },
  {
   "cell_type": "code",
   "execution_count": 19,
   "metadata": {},
   "outputs": [
    {
     "data": {
      "text/plain": [
       "0.6840390879478827"
      ]
     },
     "execution_count": 19,
     "metadata": {},
     "output_type": "execute_result"
    }
   ],
   "source": [
    "# Fitting the model with k=6\n",
    "knn = KNeighborsClassifier(n_neighbors=6)\n",
    "knn.fit(X_train, y_train)\n",
    "    \n",
    "train_accuracy = knn.score(X_train, y_train)\n",
    "test_accuracy = knn.score(X_test, y_test) \n",
    "\n",
    "#Accuracy:\n",
    "test_accuracy"
   ]
  },
  {
   "cell_type": "code",
   "execution_count": 20,
   "metadata": {},
   "outputs": [
    {
     "data": {
      "text/html": [
       "<div>\n",
       "<style scoped>\n",
       "    .dataframe tbody tr th:only-of-type {\n",
       "        vertical-align: middle;\n",
       "    }\n",
       "\n",
       "    .dataframe tbody tr th {\n",
       "        vertical-align: top;\n",
       "    }\n",
       "\n",
       "    .dataframe thead th {\n",
       "        text-align: right;\n",
       "    }\n",
       "</style>\n",
       "<table border=\"1\" class=\"dataframe\">\n",
       "  <thead>\n",
       "    <tr style=\"text-align: right;\">\n",
       "      <th>Predicted</th>\n",
       "      <th>-1</th>\n",
       "      <th>1</th>\n",
       "      <th>All</th>\n",
       "    </tr>\n",
       "    <tr>\n",
       "      <th>True</th>\n",
       "      <th></th>\n",
       "      <th></th>\n",
       "      <th></th>\n",
       "    </tr>\n",
       "  </thead>\n",
       "  <tbody>\n",
       "    <tr>\n",
       "      <th>-1</th>\n",
       "      <td>104</td>\n",
       "      <td>39</td>\n",
       "      <td>143</td>\n",
       "    </tr>\n",
       "    <tr>\n",
       "      <th>1</th>\n",
       "      <td>58</td>\n",
       "      <td>106</td>\n",
       "      <td>164</td>\n",
       "    </tr>\n",
       "    <tr>\n",
       "      <th>All</th>\n",
       "      <td>162</td>\n",
       "      <td>145</td>\n",
       "      <td>307</td>\n",
       "    </tr>\n",
       "  </tbody>\n",
       "</table>\n",
       "</div>"
      ],
      "text/plain": [
       "Predicted   -1    1  All\n",
       "True                    \n",
       "-1         104   39  143\n",
       "1           58  106  164\n",
       "All        162  145  307"
      ]
     },
     "execution_count": 20,
     "metadata": {},
     "output_type": "execute_result"
    }
   ],
   "source": [
    "#Confusion Matrix\n",
    "y_pred = knn.predict(X_test)\n",
    "pd.crosstab(y_test, y_pred, rownames=['True'], colnames=['Predicted'], margins=True)"
   ]
  },
  {
   "cell_type": "code",
   "execution_count": 21,
   "metadata": {},
   "outputs": [
    {
     "name": "stdout",
     "output_type": "stream",
     "text": [
      "Recall:  0.45121951219512196 \n",
      "Precision:  0.7047619047619048 \n",
      "F Measure:  0.550185873605948\n"
     ]
    }
   ],
   "source": [
    "# Calculating Measures by hand\n",
    "TP = 74\n",
    "FP = 31\n",
    "FN = 90\n",
    "TN = 112\n",
    "recall = TP/(TP+FN)\n",
    "precision= TP/(TP+FP)\n",
    "fmeasure = (2*recall*precision)/(recall+precision)\n",
    "print(\"Recall: \",recall, \"\\nPrecision: \",precision, \"\\nF Measure: \", fmeasure)"
   ]
  },
  {
   "cell_type": "code",
   "execution_count": 22,
   "metadata": {},
   "outputs": [
    {
     "name": "stdout",
     "output_type": "stream",
     "text": [
      "              precision    recall  f1-score   support\n",
      "\n",
      "          -1       0.64      0.73      0.68       143\n",
      "           1       0.73      0.65      0.69       164\n",
      "\n",
      "    accuracy                           0.68       307\n",
      "   macro avg       0.69      0.69      0.68       307\n",
      "weighted avg       0.69      0.68      0.68       307\n",
      "\n"
     ]
    }
   ],
   "source": [
    "from sklearn.metrics import classification_report\n",
    "print(classification_report(y_test,y_pred))"
   ]
  },
  {
   "cell_type": "code",
   "execution_count": 23,
   "metadata": {},
   "outputs": [
    {
     "name": "stdout",
     "output_type": "stream",
     "text": [
      "Linear Accuracy: [0.5493676258382141, 0.5493676258382141, 0.5493676258382141, 0.5493676258382141, 0.5493676258382141, 0.5493676258382141, 0.5493676258382141, 0.5493676258382141, 0.5493676258382141, 0.5493676258382141, 0.5493676258382141, 0.5487140310669723, 0.5506748153806977, 0.5493676258382141, 0.5493676258382141, 0.5506748153806977, 0.5526355996944232, 0.5526355996944232, 0.5526355996944232, 0.5526355996944232, 0.5526355996944232, 0.5506748153806977, 0.5506748153806977, 0.553289194465665, 0.5526355996944232, 0.5539427892369069, 0.553289194465665, 0.5539427892369069, 0.5526355996944232, 0.5526355996944232, 0.5526355996944232, 0.5526355996944232, 0.5526355996944232, 0.5526355996944232, 0.5526355996944232, 0.5526355996944232, 0.5526355996944232, 0.5526355996944232, 0.5526355996944232, 0.5526355996944232, 0.5526355996944232, 0.5526355996944232, 0.5526355996944232, 0.5526355996944232, 0.5526355996944232, 0.5526355996944232, 0.5526355996944232, 0.5526355996944232, 0.5526355996944232, 0.5526355996944232, 0.5526355996944232, 0.5526355996944232, 0.5526355996944232, 0.5526355996944232, 0.5526355996944232, 0.5526355996944232, 0.5526355996944232, 0.5526355996944232, 0.5526355996944232]\n"
     ]
    },
    {
     "data": {
      "text/plain": [
       "Text(0, 0.5, 'Cross-Validated Accuracy')"
      ]
     },
     "execution_count": 23,
     "metadata": {},
     "output_type": "execute_result"
    },
    {
     "data": {
      "image/png": "[encoded data removed]",
      "text/plain": [
       "<Figure size 432x288 with 1 Axes>"
      ]
     },
     "metadata": {},
     "output_type": "display_data"
    }
   ],
   "source": [
    "# SVM\n",
    "\n",
    "#Standardize\n",
    "scaler = StandardScaler()\n",
    "scaler.fit(X)\n",
    "X = scaler.transform(X)\n",
    "\n",
    "\n",
    "# Using Cross Validation for split\n",
    "# Linear\n",
    "#C param decides how large or small margin\n",
    "C_range=list(np.arange(0.1,6,0.1))\n",
    "acc_score=[]\n",
    "for c in C_range:\n",
    "    svc = SVC(kernel='linear', C=c)\n",
    "    scores = cross_val_score(svc, X, y, cv=10, scoring='accuracy')\n",
    "    acc_score.append(scores.mean())\n",
    "print(\"Linear Accuracy:\",acc_score) \n",
    "\n",
    "C_values=list(np.arange(0.1,6,0.1))\n",
    "plt.plot(C_values,acc_score)\n",
    "plt.xticks(np.arange(0,27,2))\n",
    "plt.xlabel('Value of C for Linear')\n",
    "plt.ylabel('Cross-Validated Accuracy')\n",
    "\n",
    "\n",
    "\n"
   ]
  },
  {
   "cell_type": "code",
   "execution_count": 24,
   "metadata": {},
   "outputs": [
    {
     "name": "stdout",
     "output_type": "stream",
     "text": [
      "[0.5329853153382565, 0.5329853153382565, 0.5108055343349461, 0.5003480179950769, 0.4807868601986248, 0.4441940412528648, 0.4617986588574824]\n"
     ]
    },
    {
     "data": {
      "text/plain": [
       "Text(0, 0.5, 'Cross-Validated Accuracy')"
      ]
     },
     "execution_count": 24,
     "metadata": {},
     "output_type": "execute_result"
    },
    {
     "data": {
      "image/png": "[encoded data removed]",
      "text/plain": [
       "<Figure size 432x288 with 1 Axes>"
      ]
     },
     "metadata": {},
     "output_type": "display_data"
    }
   ],
   "source": [
    "#Radial Basis Kernel\n",
    "#Gamma param decides large or small variance\n",
    "gamma_range=[0.0001,0.001,0.01,0.1,1,10,100]\n",
    "acc_score=[]\n",
    "for g in gamma_range:\n",
    "    svc = SVC(kernel='rbf', gamma=g)\n",
    "    scores = cross_val_score(svc, X, y, cv=10, scoring='accuracy')\n",
    "    acc_score.append(scores.mean())\n",
    "print(acc_score) \n",
    "\n",
    "gamma_values=[0.0001,0.001,0.01,0.1,1,10,100]\n",
    "plt.plot(gamma_range,acc_score)\n",
    "plt.xlabel('Value of gamma for RBK')\n",
    "plt.xticks(np.arange(0.0001,100,5))\n",
    "plt.ylabel('Cross-Validated Accuracy')\n"
   ]
  },
  {
   "cell_type": "code",
   "execution_count": 25,
   "metadata": {},
   "outputs": [
    {
     "name": "stdout",
     "output_type": "stream",
     "text": [
      "[0.5257321110262286, 0.5166878872761226, 0.5206179441473558, 0.47885154061624646, 0.48922841864018335]\n"
     ]
    },
    {
     "data": {
      "text/plain": [
       "Text(0, 0.5, 'Cross-Validated Accuracy')"
      ]
     },
     "execution_count": 25,
     "metadata": {},
     "output_type": "execute_result"
    },
    {
     "data": {
      "image/png": "[encoded data removed]",
      "text/plain": [
       "<Figure size 432x288 with 1 Axes>"
      ]
     },
     "metadata": {},
     "output_type": "display_data"
    }
   ],
   "source": [
    "#Polynomial Kernel\n",
    "degree=[2,3,4,5,6]\n",
    "acc_score=[]\n",
    "for d in degree:\n",
    "    svc = SVC(kernel='poly', degree=d)\n",
    "    scores = cross_val_score(svc, X, y, cv=10, scoring='accuracy')\n",
    "    acc_score.append(scores.mean())\n",
    "print(acc_score)    \n",
    "    \n",
    "degree=[2,3,4,5,6]\n",
    "plt.plot(degree,acc_score,color='r')\n",
    "plt.xlabel('degrees for poly ')\n",
    "plt.ylabel('Cross-Validated Accuracy')\n"
   ]
  },
  {
   "cell_type": "code",
   "execution_count": null,
   "metadata": {},
   "outputs": [],
   "source": []
  }
 ],
 "metadata": {
  "kernelspec": {
   "display_name": "Python 3",
   "language": "python",
   "name": "python3"
  },
  "language_info": {
   "codemirror_mode": {
    "name": "ipython",
    "version": 3
   },
   "file_extension": ".py",
   "mimetype": "text/x-python",
   "name": "python",
   "nbconvert_exporter": "python",
   "pygments_lexer": "ipython3",
   "version": "3.8.3"
  }
 },
 "nbformat": 4,
 "nbformat_minor": 4
}

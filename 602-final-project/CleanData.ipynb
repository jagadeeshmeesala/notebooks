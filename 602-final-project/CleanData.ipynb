{
 "cells": [
  {
   "cell_type": "code",
   "execution_count": 139,
   "metadata": {},
   "outputs": [],
   "source": [
    "import numpy as np\n",
    "import pandas as pd\n",
    "from datetime import datetime as dt\n",
    "import pandas_datareader.data as web\n",
    "\n",
    "from sklearn.model_selection import train_test_split\n",
    "from sklearn.neighbors import KNeighborsClassifier\n",
    "from sklearn.metrics import confusion_matrix\n",
    "\n",
    "import matplotlib.pyplot as plt\n",
    "plt.style.use('ggplot')"
   ]
  },
  {
   "cell_type": "code",
   "execution_count": 107,
   "metadata": {},
   "outputs": [],
   "source": [
    "rawCovid = pd.read_csv(\"covid.csv\")\n",
    "variables = [\"submission_date\", \"tot_cases\", \"new_case\", \"tot_death\", \"new_death\"]\n",
    "covid = rawCovid.loc[:,variables]"
   ]
  },
  {
   "cell_type": "code",
   "execution_count": 108,
   "metadata": {},
   "outputs": [],
   "source": [
    "covid[\"submission_date\"] = pd.to_datetime(covid[\"submission_date\"])\n",
    "covid.rename(columns={\"submission_date\":\"Date\"}, inplace=True)"
   ]
  },
  {
   "cell_type": "code",
   "execution_count": 109,
   "metadata": {},
   "outputs": [],
   "source": [
    "weeklyCovid = covid.groupby(pd.Grouper(key = \"Date\", freq =\"W\")).sum()\n",
    "weeklyCovid.reset_index(inplace=True)\n",
    "\n",
    "weeklyCovid[\"case_change\"] = weeklyCovid[\"tot_cases\"].diff().fillna(0)/weeklyCovid[\"tot_cases\"]\n",
    "weeklyCovid[\"death_change\"] = weeklyCovid[\"tot_death\"].diff().fillna(0)/weeklyCovid[\"tot_death\"]\n",
    "weeklyCovid[\"death_change\"].fillna(0, inplace=True)\n"
   ]
  },
  {
   "cell_type": "code",
   "execution_count": 110,
   "metadata": {},
   "outputs": [],
   "source": [
    "bioStock = [\"FBRX\", \"TRIL\", \"CODX\", \"ALIM\", \"BTAI\"]\n",
    "pharmStock = [\"ABT\", \"RCUS\", \"LLY\", \"ELAN\", \"MRK\"]\n",
    "techStocks = [\"BILI\", \"CCOI\", \"CHT\"]\n",
    "energyStocks = [\"CVX\",\"XOM\",\"KMI\",\"WMB\",\"LNG\"]\n",
    "retailStocks = [\"WMT\",\"AMZN\",\"COST\",\"BIG\",\"ACI\"]\n",
    "consumerStaplesStocks= ['VDC', 'VCSAX']\n",
    "utilityStocks= [ 'VUIAX', 'VPU']\n",
    "# please create lists of your stocks' ticker symbols\n"
   ]
  },
  {
   "cell_type": "code",
   "execution_count": 111,
   "metadata": {},
   "outputs": [],
   "source": [
    "# please add your lists to tickerSymbol\n",
    "tickerSymbol = bioStock + pharmStock + techStocks + energyStocks + retailStocks + consumerStaplesStocks + utilityStocks\n",
    "# + \"your lists\""
   ]
  },
  {
   "cell_type": "code",
   "execution_count": 112,
   "metadata": {
    "scrolled": true
   },
   "outputs": [],
   "source": [
    "start = \"2020-01-22\"\n",
    "end = dt.now()\n",
    "\n",
    "stocks = pd.DataFrame()\n",
    "sc_df = pd.DataFrame()\n",
    "\n",
    "for i in tickerSymbol:\n",
    "    df = web.DataReader(i, \"yahoo\", start, end)\n",
    "    df.reset_index(inplace=True)\n",
    "\n",
    "    weeklyPrice = df.groupby([pd.Grouper(key=\"Date\", freq=\"W\")]).mean()\n",
    "    weeklyPrice[\"Stock\"] = i\n",
    "    weeklyPrice.reset_index(inplace=True)\n",
    "    \n",
    "    stocks = stocks.append(weeklyPrice[[\"Adj Close\", \"Date\", \"Stock\"]],\n",
    "                          ignore_index = True)\n",
    "    stocks[\"stock_price_change\"] = stocks[\"Adj Close\"].diff().fillna(0)\n",
    "    \n",
    "    sc_df = pd.merge(stocks, weeklyCovid, on=\"Date\")"
   ]
  },
  {
   "cell_type": "code",
   "execution_count": 113,
   "metadata": {},
   "outputs": [],
   "source": [
    "sc_df[\"Category\"] = \"\"\n",
    "sc_df.loc[sc_df[\"Stock\"].isin(bioStock), \"Category\"] = \"biotech\"\n",
    "sc_df.loc[sc_df[\"Stock\"].isin(pharmStock), \"Category\"] = \"pharmacy\"\n",
    "sc_df.loc[sc_df[\"Stock\"].isin(bioStock), \"Category\"] = \"it\"\n",
    "sc_df.loc[sc_df[\"Stock\"].isin(pharmStock), \"Category\"] = \"energy\"\n",
    "sc_df.loc[sc_df[\"Stock\"].isin(pharmStock), \"Category\"] = \"retail\"\n",
    "sc_df.loc[sc_df[\"Stock\"].isin(bioStock), \"Category\"] = \"consumer\"\n",
    "sc_df.loc[sc_df[\"Stock\"].isin(pharmStock), \"Category\"] = \"utility\"\n",
    "\n",
    "# please add your stocks' categories\n"
   ]
  },
  {
   "cell_type": "code",
   "execution_count": 114,
   "metadata": {},
   "outputs": [],
   "source": [
    "sc_df[\"Rise/Fall\"] = \"\"\n",
    "sc_df.loc[sc_df[\"stock_price_change\"]>0, \"Rise/Fall\"] = \"1\"\n",
    "sc_df.loc[sc_df[\"stock_price_change\"]<0, \"Rise/Fall\"] = \"-1\"\n",
    "sc_df.loc[sc_df[\"stock_price_change\"]==0, \"Rise/Fall\"] = np.nan\n",
    "\n",
    "sc_df.dropna(inplace=True)\n",
    "\n",
    "\n"
   ]
  },
  {
   "cell_type": "code",
   "execution_count": 115,
   "metadata": {},
   "outputs": [
    {
     "data": {
      "text/html": [
       "<div>\n",
       "<style scoped>\n",
       "    .dataframe tbody tr th:only-of-type {\n",
       "        vertical-align: middle;\n",
       "    }\n",
       "\n",
       "    .dataframe tbody tr th {\n",
       "        vertical-align: top;\n",
       "    }\n",
       "\n",
       "    .dataframe thead th {\n",
       "        text-align: right;\n",
       "    }\n",
       "</style>\n",
       "<table border=\"1\" class=\"dataframe\">\n",
       "  <thead>\n",
       "    <tr style=\"text-align: right;\">\n",
       "      <th></th>\n",
       "      <th>Adj Close</th>\n",
       "      <th>Date</th>\n",
       "      <th>Stock</th>\n",
       "      <th>stock_price_change</th>\n",
       "      <th>tot_cases</th>\n",
       "      <th>new_case</th>\n",
       "      <th>tot_death</th>\n",
       "      <th>new_death</th>\n",
       "      <th>case_change</th>\n",
       "      <th>death_change</th>\n",
       "      <th>Category</th>\n",
       "      <th>Rise/Fall</th>\n",
       "    </tr>\n",
       "  </thead>\n",
       "  <tbody>\n",
       "    <tr>\n",
       "      <th>1</th>\n",
       "      <td>3.996667</td>\n",
       "      <td>2020-01-26</td>\n",
       "      <td>TRIL</td>\n",
       "      <td>-31.423334</td>\n",
       "      <td>1</td>\n",
       "      <td>1.0</td>\n",
       "      <td>0</td>\n",
       "      <td>0.0</td>\n",
       "      <td>0.000000</td>\n",
       "      <td>0.000000</td>\n",
       "      <td>consumer</td>\n",
       "      <td>-1</td>\n",
       "    </tr>\n",
       "    <tr>\n",
       "      <th>2</th>\n",
       "      <td>1.680000</td>\n",
       "      <td>2020-01-26</td>\n",
       "      <td>CODX</td>\n",
       "      <td>-11.462000</td>\n",
       "      <td>1</td>\n",
       "      <td>1.0</td>\n",
       "      <td>0</td>\n",
       "      <td>0.0</td>\n",
       "      <td>0.000000</td>\n",
       "      <td>0.000000</td>\n",
       "      <td>consumer</td>\n",
       "      <td>-1</td>\n",
       "    </tr>\n",
       "    <tr>\n",
       "      <th>3</th>\n",
       "      <td>7.433333</td>\n",
       "      <td>2020-01-26</td>\n",
       "      <td>ALIM</td>\n",
       "      <td>-6.656667</td>\n",
       "      <td>1</td>\n",
       "      <td>1.0</td>\n",
       "      <td>0</td>\n",
       "      <td>0.0</td>\n",
       "      <td>0.000000</td>\n",
       "      <td>0.000000</td>\n",
       "      <td>consumer</td>\n",
       "      <td>-1</td>\n",
       "    </tr>\n",
       "    <tr>\n",
       "      <th>4</th>\n",
       "      <td>17.196667</td>\n",
       "      <td>2020-01-26</td>\n",
       "      <td>BTAI</td>\n",
       "      <td>13.211267</td>\n",
       "      <td>1</td>\n",
       "      <td>1.0</td>\n",
       "      <td>0</td>\n",
       "      <td>0.0</td>\n",
       "      <td>0.000000</td>\n",
       "      <td>0.000000</td>\n",
       "      <td>consumer</td>\n",
       "      <td>1</td>\n",
       "    </tr>\n",
       "    <tr>\n",
       "      <th>5</th>\n",
       "      <td>89.964806</td>\n",
       "      <td>2020-01-26</td>\n",
       "      <td>ABT</td>\n",
       "      <td>38.262807</td>\n",
       "      <td>1</td>\n",
       "      <td>1.0</td>\n",
       "      <td>0</td>\n",
       "      <td>0.0</td>\n",
       "      <td>0.000000</td>\n",
       "      <td>0.000000</td>\n",
       "      <td>utility</td>\n",
       "      <td>1</td>\n",
       "    </tr>\n",
       "    <tr>\n",
       "      <th>...</th>\n",
       "      <td>...</td>\n",
       "      <td>...</td>\n",
       "      <td>...</td>\n",
       "      <td>...</td>\n",
       "      <td>...</td>\n",
       "      <td>...</td>\n",
       "      <td>...</td>\n",
       "      <td>...</td>\n",
       "      <td>...</td>\n",
       "      <td>...</td>\n",
       "      <td>...</td>\n",
       "      <td>...</td>\n",
       "    </tr>\n",
       "    <tr>\n",
       "      <th>1107</th>\n",
       "      <td>15.268000</td>\n",
       "      <td>2020-11-08</td>\n",
       "      <td>ACI</td>\n",
       "      <td>0.340000</td>\n",
       "      <td>1161657</td>\n",
       "      <td>10032.0</td>\n",
       "      <td>25108</td>\n",
       "      <td>53.0</td>\n",
       "      <td>-5.808244</td>\n",
       "      <td>-5.920225</td>\n",
       "      <td></td>\n",
       "      <td>1</td>\n",
       "    </tr>\n",
       "    <tr>\n",
       "      <th>1108</th>\n",
       "      <td>164.888000</td>\n",
       "      <td>2020-11-08</td>\n",
       "      <td>VDC</td>\n",
       "      <td>2.834000</td>\n",
       "      <td>1161657</td>\n",
       "      <td>10032.0</td>\n",
       "      <td>25108</td>\n",
       "      <td>53.0</td>\n",
       "      <td>-5.808244</td>\n",
       "      <td>-5.920225</td>\n",
       "      <td></td>\n",
       "      <td>1</td>\n",
       "    </tr>\n",
       "    <tr>\n",
       "      <th>1109</th>\n",
       "      <td>81.320001</td>\n",
       "      <td>2020-11-08</td>\n",
       "      <td>VCSAX</td>\n",
       "      <td>1.430002</td>\n",
       "      <td>1161657</td>\n",
       "      <td>10032.0</td>\n",
       "      <td>25108</td>\n",
       "      <td>53.0</td>\n",
       "      <td>-5.808244</td>\n",
       "      <td>-5.920225</td>\n",
       "      <td></td>\n",
       "      <td>1</td>\n",
       "    </tr>\n",
       "    <tr>\n",
       "      <th>1110</th>\n",
       "      <td>69.767999</td>\n",
       "      <td>2020-11-08</td>\n",
       "      <td>VUIAX</td>\n",
       "      <td>0.678000</td>\n",
       "      <td>1161657</td>\n",
       "      <td>10032.0</td>\n",
       "      <td>25108</td>\n",
       "      <td>53.0</td>\n",
       "      <td>-5.808244</td>\n",
       "      <td>-5.920225</td>\n",
       "      <td></td>\n",
       "      <td>1</td>\n",
       "    </tr>\n",
       "    <tr>\n",
       "      <th>1111</th>\n",
       "      <td>139.101999</td>\n",
       "      <td>2020-11-08</td>\n",
       "      <td>VPU</td>\n",
       "      <td>1.339996</td>\n",
       "      <td>1161657</td>\n",
       "      <td>10032.0</td>\n",
       "      <td>25108</td>\n",
       "      <td>53.0</td>\n",
       "      <td>-5.808244</td>\n",
       "      <td>-5.920225</td>\n",
       "      <td></td>\n",
       "      <td>1</td>\n",
       "    </tr>\n",
       "  </tbody>\n",
       "</table>\n",
       "<p>1111 rows × 12 columns</p>\n",
       "</div>"
      ],
      "text/plain": [
       "       Adj Close       Date  Stock  stock_price_change  tot_cases  new_case  \\\n",
       "1       3.996667 2020-01-26   TRIL          -31.423334          1       1.0   \n",
       "2       1.680000 2020-01-26   CODX          -11.462000          1       1.0   \n",
       "3       7.433333 2020-01-26   ALIM           -6.656667          1       1.0   \n",
       "4      17.196667 2020-01-26   BTAI           13.211267          1       1.0   \n",
       "5      89.964806 2020-01-26    ABT           38.262807          1       1.0   \n",
       "...          ...        ...    ...                 ...        ...       ...   \n",
       "1107   15.268000 2020-11-08    ACI            0.340000    1161657   10032.0   \n",
       "1108  164.888000 2020-11-08    VDC            2.834000    1161657   10032.0   \n",
       "1109   81.320001 2020-11-08  VCSAX            1.430002    1161657   10032.0   \n",
       "1110   69.767999 2020-11-08  VUIAX            0.678000    1161657   10032.0   \n",
       "1111  139.101999 2020-11-08    VPU            1.339996    1161657   10032.0   \n",
       "\n",
       "      tot_death  new_death  case_change  death_change  Category Rise/Fall  \n",
       "1             0        0.0     0.000000      0.000000  consumer        -1  \n",
       "2             0        0.0     0.000000      0.000000  consumer        -1  \n",
       "3             0        0.0     0.000000      0.000000  consumer        -1  \n",
       "4             0        0.0     0.000000      0.000000  consumer         1  \n",
       "5             0        0.0     0.000000      0.000000   utility         1  \n",
       "...         ...        ...          ...           ...       ...       ...  \n",
       "1107      25108       53.0    -5.808244     -5.920225                   1  \n",
       "1108      25108       53.0    -5.808244     -5.920225                   1  \n",
       "1109      25108       53.0    -5.808244     -5.920225                   1  \n",
       "1110      25108       53.0    -5.808244     -5.920225                   1  \n",
       "1111      25108       53.0    -5.808244     -5.920225                   1  \n",
       "\n",
       "[1111 rows x 12 columns]"
      ]
     },
     "execution_count": 115,
     "metadata": {},
     "output_type": "execute_result"
    }
   ],
   "source": [
    "sc_df"
   ]
  },
  {
   "cell_type": "code",
   "execution_count": 135,
   "metadata": {},
   "outputs": [],
   "source": [
    "## KNN \n",
    "# \n",
    "X = sc_df.drop(columns=['Adj Close','Date','Stock','stock_price_change','Category','Rise/Fall'],axis=1).values\n",
    "y = sc_df['Rise/Fall'].values\n",
    "\n",
    "\n",
    "\n",
    "#Splitting into test and train\n",
    "X_train,X_test,y_train,y_test = train_test_split(X,y,test_size=0.2,random_state=42, stratify=y)\n",
    "\n",
    "\n",
    "\n",
    "#Arrays to store data accuracy\n",
    "neighbors = np.arange(1,9)\n",
    "train_accuracy =np.empty(len(neighbors))\n",
    "test_accuracy = np.empty(len(neighbors))\n",
    "\n",
    "\n",
    "for i,k in enumerate(neighbors):\n",
    "    knn = KNeighborsClassifier(n_neighbors=k)\n",
    "    knn.fit(X_train, y_train)\n",
    "    \n",
    "    train_accuracy[i] = knn.score(X_train, y_train)\n",
    "    test_accuracy[i] = knn.score(X_test, y_test) \n"
   ]
  },
  {
   "cell_type": "code",
   "execution_count": 136,
   "metadata": {},
   "outputs": [
    {
     "data": {
      "image/png": "[encoded data removed]",
      "text/plain": [
       "<Figure size 432x288 with 1 Axes>"
      ]
     },
     "metadata": {},
     "output_type": "display_data"
    }
   ],
   "source": [
    "#Generate plot\n",
    "plt.title('k-NN for k neg')\n",
    "plt.plot(neighbors, test_accuracy, label='Testing Accuracy')\n",
    "plt.plot(neighbors, train_accuracy, label='Training accuracy')\n",
    "plt.legend()\n",
    "plt.xlabel('Number of neighbors')\n",
    "plt.ylabel('Accuracy')\n",
    "plt.show()"
   ]
  },
  {
   "cell_type": "code",
   "execution_count": 138,
   "metadata": {},
   "outputs": [
    {
     "data": {
      "text/plain": [
       "0.6771300448430493"
      ]
     },
     "execution_count": 138,
     "metadata": {},
     "output_type": "execute_result"
    }
   ],
   "source": [
    "# Fitting the model with k=4\n",
    "knn = KNeighborsClassifier(n_neighbors=4)\n",
    "knn.fit(X_train, y_train)\n",
    "    \n",
    "train_accuracy = knn.score(X_train, y_train)\n",
    "test_accuracy = knn.score(X_test, y_test) \n",
    "\n",
    "#Accuracy:\n",
    "test_accuracy"
   ]
  },
  {
   "cell_type": "code",
   "execution_count": 142,
   "metadata": {},
   "outputs": [
    {
     "data": {
      "text/html": [
       "<div>\n",
       "<style scoped>\n",
       "    .dataframe tbody tr th:only-of-type {\n",
       "        vertical-align: middle;\n",
       "    }\n",
       "\n",
       "    .dataframe tbody tr th {\n",
       "        vertical-align: top;\n",
       "    }\n",
       "\n",
       "    .dataframe thead th {\n",
       "        text-align: right;\n",
       "    }\n",
       "</style>\n",
       "<table border=\"1\" class=\"dataframe\">\n",
       "  <thead>\n",
       "    <tr style=\"text-align: right;\">\n",
       "      <th>Predicted</th>\n",
       "      <th>-1</th>\n",
       "      <th>1</th>\n",
       "      <th>All</th>\n",
       "    </tr>\n",
       "    <tr>\n",
       "      <th>True</th>\n",
       "      <th></th>\n",
       "      <th></th>\n",
       "      <th></th>\n",
       "    </tr>\n",
       "  </thead>\n",
       "  <tbody>\n",
       "    <tr>\n",
       "      <th>-1</th>\n",
       "      <td>74</td>\n",
       "      <td>29</td>\n",
       "      <td>103</td>\n",
       "    </tr>\n",
       "    <tr>\n",
       "      <th>1</th>\n",
       "      <td>43</td>\n",
       "      <td>77</td>\n",
       "      <td>120</td>\n",
       "    </tr>\n",
       "    <tr>\n",
       "      <th>All</th>\n",
       "      <td>117</td>\n",
       "      <td>106</td>\n",
       "      <td>223</td>\n",
       "    </tr>\n",
       "  </tbody>\n",
       "</table>\n",
       "</div>"
      ],
      "text/plain": [
       "Predicted   -1    1  All\n",
       "True                    \n",
       "-1          74   29  103\n",
       "1           43   77  120\n",
       "All        117  106  223"
      ]
     },
     "execution_count": 142,
     "metadata": {},
     "output_type": "execute_result"
    }
   ],
   "source": [
    "#Confusion Matrix\n",
    "pd.crosstab(y_test, y_pred, rownames=['True'], colnames=['Predicted'], margins=True)"
   ]
  },
  {
   "cell_type": "code",
   "execution_count": 148,
   "metadata": {},
   "outputs": [
    {
     "name": "stdout",
     "output_type": "stream",
     "text": [
      "Recall:  0.6416666666666667 \n",
      "Precision:  0.7264150943396226 \n",
      "F Measure:  0.6814159292035399\n"
     ]
    }
   ],
   "source": [
    "# Calculating Measures by hand\n",
    "TP = 77\n",
    "FP = 29\n",
    "FN = 43\n",
    "TN = 74\n",
    "recall = TP/(TP+FN)\n",
    "precision= TP/(TP+FP)\n",
    "fmeasure = (2*recall*percision)/(recall+percision)\n",
    "print(\"Recall: \",recall, \"\\nPrecision: \",precision, \"\\nF Measure: \", fmeasure)"
   ]
  },
  {
   "cell_type": "code",
   "execution_count": 149,
   "metadata": {},
   "outputs": [
    {
     "name": "stdout",
     "output_type": "stream",
     "text": [
      "              precision    recall  f1-score   support\n",
      "\n",
      "          -1       0.63      0.72      0.67       103\n",
      "           1       0.73      0.64      0.68       120\n",
      "\n",
      "    accuracy                           0.68       223\n",
      "   macro avg       0.68      0.68      0.68       223\n",
      "weighted avg       0.68      0.68      0.68       223\n",
      "\n"
     ]
    }
   ],
   "source": [
    "from sklearn.metrics import classification_report\n",
    "print(classification_report(y_test,y_pred))"
   ]
  },
  {
   "cell_type": "code",
   "execution_count": null,
   "metadata": {},
   "outputs": [],
   "source": []
  }
 ],
 "metadata": {
  "kernelspec": {
   "display_name": "Python 3",
   "language": "python",
   "name": "python3"
  },
  "language_info": {
   "codemirror_mode": {
    "name": "ipython",
    "version": 3
   },
   "file_extension": ".py",
   "mimetype": "text/x-python",
   "name": "python",
   "nbconvert_exporter": "python",
   "pygments_lexer": "ipython3",
   "version": "3.8.3"
  }
 },
 "nbformat": 4,
 "nbformat_minor": 4
}

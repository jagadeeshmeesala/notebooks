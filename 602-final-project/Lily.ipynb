{
 "cells": [
  {
   "cell_type": "code",
   "execution_count": 2,
   "metadata": {
    "collapsed": true,
    "jupyter": {
     "outputs_hidden": true
    }
   },
   "outputs": [],
   "source": [
    "import os\n",
    "\n",
    "# Lin alg, pandas, plots\n",
    "import numpy as np \n",
    "import pandas as pd\n",
    "import matplotlib.pyplot as plt\n",
    "from matplotlib import style\n",
    "\n",
    "# Remote data access\n",
    "# NOTE: install pandas_datareader if you don't have it\n",
    "import pandas_datareader.data as web\n",
    "from datetime import datetime as dt"
   ]
  },
  {
   "cell_type": "code",
   "execution_count": 12,
   "metadata": {},
   "outputs": [
    {
     "name": "stdout",
     "output_type": "stream",
     "text": [
      "VFINX                   High         Low        Open       Close  Volume   Adj Close\n",
      "Date                                                                          \n",
      "2014-12-31  189.889999  189.889999  189.889999  189.889999     0.0  170.486542\n",
      "2015-01-02  189.850006  189.850006  189.850006  189.850006     0.0  170.450638\n",
      "2015-01-05  186.389999  186.389999  186.389999  186.389999     0.0  167.344223\n",
      "2015-01-06  184.729996  184.729996  184.729996  184.729996     0.0  165.853836\n",
      "2015-01-07  186.940002  186.940002  186.940002  186.940002     0.0  167.837997 \n",
      "\n",
      "<class 'pandas.core.frame.DataFrame'>\n",
      "DatetimeIndex: 1457 entries, 2014-12-31 to 2020-10-13\n",
      "Data columns (total 6 columns):\n",
      " #   Column     Non-Null Count  Dtype  \n",
      "---  ------     --------------  -----  \n",
      " 0   High       1457 non-null   float64\n",
      " 1   Low        1457 non-null   float64\n",
      " 2   Open       1457 non-null   float64\n",
      " 3   Close      1457 non-null   float64\n",
      " 4   Volume     1457 non-null   float64\n",
      " 5   Adj Close  1457 non-null   float64\n",
      "dtypes: float64(6)\n",
      "memory usage: 79.7 KB\n",
      "None\n",
      "VBMFX              High    Low   Open  Close  Volume  Adj Close\n",
      "Date                                                     \n",
      "2014-12-31  10.87  10.87  10.87  10.87     0.0   9.415001\n",
      "2015-01-02  10.90  10.90  10.90  10.90     0.0   9.440982\n",
      "2015-01-05  10.93  10.93  10.93  10.93     0.0   9.466968\n",
      "2015-01-06  10.97  10.97  10.97  10.97     0.0   9.501613\n",
      "2015-01-07  10.97  10.97  10.97  10.97     0.0   9.501613 \n",
      "\n",
      "<class 'pandas.core.frame.DataFrame'>\n",
      "DatetimeIndex: 1457 entries, 2014-12-31 to 2020-10-13\n",
      "Data columns (total 6 columns):\n",
      " #   Column     Non-Null Count  Dtype  \n",
      "---  ------     --------------  -----  \n",
      " 0   High       1457 non-null   float64\n",
      " 1   Low        1457 non-null   float64\n",
      " 2   Open       1457 non-null   float64\n",
      " 3   Close      1457 non-null   float64\n",
      " 4   Volume     1457 non-null   float64\n",
      " 5   Adj Close  1457 non-null   float64\n",
      "dtypes: float64(6)\n",
      "memory usage: 79.7 KB\n",
      "None\n",
      "VGSLX                   High         Low        Open       Close  Volume  Adj Close\n",
      "Date                                                                         \n",
      "2014-12-31  114.830002  114.830002  114.830002  114.830002     0.0  90.955849\n",
      "2015-01-02  116.540001  116.540001  116.540001  116.540001     0.0  92.310333\n",
      "2015-01-05  117.169998  117.169998  117.169998  117.169998     0.0  92.809341\n",
      "2015-01-06  118.379997  118.379997  118.379997  118.379997     0.0  93.767792\n",
      "2015-01-07  120.190002  120.190002  120.190002  120.190002     0.0  95.201477 \n",
      "\n",
      "<class 'pandas.core.frame.DataFrame'>\n",
      "DatetimeIndex: 1457 entries, 2014-12-31 to 2020-10-13\n",
      "Data columns (total 6 columns):\n",
      " #   Column     Non-Null Count  Dtype  \n",
      "---  ------     --------------  -----  \n",
      " 0   High       1457 non-null   float64\n",
      " 1   Low        1457 non-null   float64\n",
      " 2   Open       1457 non-null   float64\n",
      " 3   Close      1457 non-null   float64\n",
      " 4   Volume     1457 non-null   float64\n",
      " 5   Adj Close  1457 non-null   float64\n",
      "dtypes: float64(6)\n",
      "memory usage: 79.7 KB\n",
      "None\n"
     ]
    }
   ],
   "source": [
    "# Assets\n",
    "\n",
    "year0 = 2015;\n",
    "yearN = 2020;\n",
    "years = np.arange(year0, yearN+1)\n",
    "\n",
    "# To be changed later --> to stocks\n",
    "# Currently: vfinx, bond market index, real estate index\n",
    "assetsSTR = ['VFINX','VBMFX','VGSLX']\n",
    "\n",
    "\n",
    "assets =[]\n",
    "style.use('ggplot')\n",
    "for i in range(0,len(assetsSTR)):\n",
    "    start = dt(year0-1, 12, 31);\n",
    "    end = dt.now();\n",
    "    \n",
    "    df = web.DataReader(assetsSTR[i], 'yahoo', start, end) \n",
    "    df.reset_index().to_json(None, orient='records', date_format='iso')\n",
    "    print(assetsSTR[i], df.head(), \"\\n\" )\n",
    "    print(df.info())\n",
    "    \n",
    "    # Use adjusted, and treat half days as full days (?)\n",
    "    #assets[:,i] = df['Adj Close']\n",
    "    # Convert to daily returns [s(d)/s(d-1)]-1\n",
    "    \n",
    "    \n",
    "    "
   ]
  },
  {
   "cell_type": "code",
   "execution_count": 72,
   "metadata": {},
   "outputs": [
    {
     "data": {
      "text/plain": [
       "Date\n",
       "2014-12-31     90.955849\n",
       "2015-01-02     92.310333\n",
       "2015-01-05     92.809341\n",
       "2015-01-06     93.767792\n",
       "2015-01-07     95.201477\n",
       "                 ...    \n",
       "2020-10-05    116.730003\n",
       "2020-10-06    116.010002\n",
       "2020-10-07    116.160004\n",
       "2020-10-08    118.129997\n",
       "2020-10-09    117.629997\n",
       "Name: Adj Close, Length: 1455, dtype: float64"
      ]
     },
     "execution_count": 72,
     "metadata": {},
     "output_type": "execute_result"
    }
   ],
   "source": []
  },
  {
   "cell_type": "code",
   "execution_count": 11,
   "metadata": {},
   "outputs": [
    {
     "name": "stdout",
     "output_type": "stream",
     "text": [
      "              cases  deaths\n",
      "date                       \n",
      "2020-10-04  7445343  209606\n",
      "2020-10-05  7487035  210035\n",
      "2020-10-06  7529899  210756\n",
      "2020-10-07  7582877  211750\n",
      "2020-10-08  7639252  212678\n",
      "2020-10-09  7698203  213593\n",
      "2020-10-10  7749789  214185\n",
      "2020-10-11  7794555  214604\n",
      "2020-10-12  7840482  214955\n",
      "2020-10-13  7894994  215781\n",
      "<class 'pandas.core.frame.DataFrame'>\n",
      "DatetimeIndex: 267 entries, 2020-01-21 to 2020-10-13\n",
      "Data columns (total 2 columns):\n",
      " #   Column  Non-Null Count  Dtype\n",
      "---  ------  --------------  -----\n",
      " 0   cases   267 non-null    int64\n",
      " 1   deaths  267 non-null    int64\n",
      "dtypes: int64(2)\n",
      "memory usage: 6.3 KB\n",
      "None\n"
     ]
    }
   ],
   "source": [
    "# COVID\n",
    "# https://github.com/nytimes/covid-19-data/blob/master/us.csv\n",
    "\n",
    "url = 'https://raw.githubusercontent.com/nytimes/covid-19-data/master/us.csv'\n",
    "dfCovid = pd.read_csv(url,index_col=0,parse_dates=[0])\n",
    "\n",
    "print(dfCovid.tail(10))\n",
    "print(dfCovid.info())\n"
   ]
  },
  {
   "cell_type": "code",
   "execution_count": null,
   "metadata": {},
   "outputs": [],
   "source": []
  },
  {
   "cell_type": "code",
   "execution_count": null,
   "metadata": {},
   "outputs": [],
   "source": []
  }
 ],
 "metadata": {
  "kernelspec": {
   "display_name": "conda_python3",
   "language": "python",
   "name": "conda_python3"
  },
  "language_info": {
   "codemirror_mode": {
    "name": "ipython",
    "version": 3
   },
   "file_extension": ".py",
   "mimetype": "text/x-python",
   "name": "python",
   "nbconvert_exporter": "python",
   "pygments_lexer": "ipython3",
   "version": "3.6.10"
  }
 },
 "nbformat": 4,
 "nbformat_minor": 4
}

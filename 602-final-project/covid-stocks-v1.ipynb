{
 "cells": [
  {
   "cell_type": "code",
   "execution_count": 5,
   "metadata": {},
   "outputs": [],
   "source": [
    "import numpy as np \n",
    "import pandas as pd\n",
    "import sklearn.cluster\n",
    "import matplotlib.pyplot as plt\n",
    "# !pip install pandas_datareader\n",
    "import pandas_datareader.data as web\n",
    "# import datetime as dt\n",
    "from datetime import datetime as dt"
   ]
  },
  {
   "cell_type": "code",
   "execution_count": 6,
   "metadata": {},
   "outputs": [],
   "source": [
    "# COVID\n",
    "# https://github.com/nytimes/covid-19-data/blob/master/us.csv\n",
    "url = 'https://raw.githubusercontent.com/nytimes/covid-19-data/master/us.csv'\n",
    "df_Covid = pd.read_csv(url,index_col=0,parse_dates=[0])\n",
    "# save the dataframe to local folder as a csv file with name \"Covid\"\n",
    "df_Covid.to_csv(\"Covid.csv\")"
   ]
  },
  {
   "cell_type": "code",
   "execution_count": 4,
   "metadata": {},
   "outputs": [],
   "source": [
    "stocks_RealEstate = ['AMT', 'PLD', 'EQIX', 'BAM', 'ZG', 'MGM', 'TOL', 'KIM']\n",
    "stocks_HealthCare = ['JNJ', 'MDT', 'NVS', 'PFE', 'GSK', 'MMM', 'LH']\n",
    "# stocks = stocks_RealEstate.append(stocks_HealthCare)\n",
    "stocks = ['AMT', 'PLD', 'EQIX', 'BAM', 'ZG', 'MGM', 'TOL', 'KIM','JNJ', 'MDT', 'NVS', 'PFE', 'GSK', 'MMM', 'LH']\n",
    "start_date = \"2020-01-01\"\n",
    "end_date = dt.now()\n",
    "df_stocks = pd.DataFrame()\n",
    "for stock in stocks:\n",
    "    ticker_data = web.DataReader(stock, 'yahoo', start_date, end_date)\n",
    "    ticker_data[\"stock_name\"] = stock\n",
    "    # ticker_data = ticker_data.join(df_Covid)\n",
    "    df_stocks = df_stocks.append(ticker_data)\n",
    "    # print(df_stocks.info())\n",
    "df_stocks.to_csv(\"stocks.csv\")"
   ]
  },
  {
   "cell_type": "code",
   "execution_count": null,
   "metadata": {},
   "outputs": [],
   "source": []
  }
 ],
 "metadata": {
  "kernelspec": {
   "display_name": "conda_python3",
   "language": "python",
   "name": "conda_python3"
  },
  "language_info": {
   "codemirror_mode": {
    "name": "ipython",
    "version": 3
   },
   "file_extension": ".py",
   "mimetype": "text/x-python",
   "name": "python",
   "nbconvert_exporter": "python",
   "pygments_lexer": "ipython3",
   "version": "3.6.10"
  }
 },
 "nbformat": 4,
 "nbformat_minor": 4
}

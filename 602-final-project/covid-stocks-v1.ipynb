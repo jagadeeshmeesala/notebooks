{
 "cells": [
  {
   "cell_type": "code",
   "execution_count": 2,
   "metadata": {},
   "outputs": [
    {
     "name": "stdout",
     "output_type": "stream",
     "text": [
      "Collecting pandas_datareader\n",
      "  Downloading pandas_datareader-0.9.0-py3-none-any.whl (107 kB)\n",
      "\u001b[K     |████████████████████████████████| 107 kB 10.4 MB/s eta 0:00:01\n",
      "\u001b[?25hRequirement already satisfied: pandas>=0.23 in /home/ec2-user/anaconda3/envs/python3/lib/python3.6/site-packages (from pandas_datareader) (1.0.1)\n",
      "Requirement already satisfied: lxml in /home/ec2-user/anaconda3/envs/python3/lib/python3.6/site-packages (from pandas_datareader) (4.5.0)\n",
      "Requirement already satisfied: requests>=2.19.0 in /home/ec2-user/anaconda3/envs/python3/lib/python3.6/site-packages (from pandas_datareader) (2.22.0)\n",
      "Requirement already satisfied: numpy>=1.13.3 in /home/ec2-user/anaconda3/envs/python3/lib/python3.6/site-packages (from pandas>=0.23->pandas_datareader) (1.18.1)\n",
      "Requirement already satisfied: python-dateutil>=2.6.1 in /home/ec2-user/anaconda3/envs/python3/lib/python3.6/site-packages (from pandas>=0.23->pandas_datareader) (2.8.1)\n",
      "Requirement already satisfied: pytz>=2017.2 in /home/ec2-user/anaconda3/envs/python3/lib/python3.6/site-packages (from pandas>=0.23->pandas_datareader) (2019.3)\n",
      "Requirement already satisfied: urllib3!=1.25.0,!=1.25.1,<1.26,>=1.21.1 in /home/ec2-user/anaconda3/envs/python3/lib/python3.6/site-packages (from requests>=2.19.0->pandas_datareader) (1.25.10)\n",
      "Requirement already satisfied: idna<2.9,>=2.5 in /home/ec2-user/anaconda3/envs/python3/lib/python3.6/site-packages (from requests>=2.19.0->pandas_datareader) (2.8)\n",
      "Requirement already satisfied: chardet<3.1.0,>=3.0.2 in /home/ec2-user/anaconda3/envs/python3/lib/python3.6/site-packages (from requests>=2.19.0->pandas_datareader) (3.0.4)\n",
      "Requirement already satisfied: certifi>=2017.4.17 in /home/ec2-user/anaconda3/envs/python3/lib/python3.6/site-packages (from requests>=2.19.0->pandas_datareader) (2020.6.20)\n",
      "Requirement already satisfied: six>=1.5 in /home/ec2-user/anaconda3/envs/python3/lib/python3.6/site-packages (from python-dateutil>=2.6.1->pandas>=0.23->pandas_datareader) (1.14.0)\n",
      "Installing collected packages: pandas-datareader\n",
      "Successfully installed pandas-datareader-0.9.0\n",
      "\u001b[33mWARNING: You are using pip version 20.0.2; however, version 20.2.4 is available.\n",
      "You should consider upgrading via the '/home/ec2-user/anaconda3/envs/python3/bin/python -m pip install --upgrade pip' command.\u001b[0m\n"
     ]
    }
   ],
   "source": [
    "import numpy as np \n",
    "import pandas as pd\n",
    "import sklearn.cluster\n",
    "import matplotlib.pyplot as plt\n",
    "# !pip install pandas_datareader\n",
    "import pandas_datareader.data as web\n",
    "# import datetime as dt\n",
    "from datetime import datetime as dt"
   ]
  },
  {
   "cell_type": "code",
   "execution_count": null,
   "metadata": {},
   "outputs": [],
   "source": [
    "stocks_RealEstate = ['AMT', 'PLD', 'EQIX', 'BAM', 'ZG', 'MGM', 'TOL', 'KIM']\n",
    "stocks_HealthCare = ['JNJ', 'MDT', 'NVS', 'PFE', 'GSK', 'MMM', 'LH']\n",
    "# stocks = stocks_RealEstate.append(stocks_HealthCare)\n",
    "stocks = ['AMT', 'PLD', 'EQIX', 'BAM', 'ZG', 'MGM', 'TOL', 'KIM','JNJ', 'MDT', 'NVS', 'PFE', 'GSK', 'MMM', 'LH']\n",
    "start_date = \"2020-01-01\"\n",
    "end_date = dt.now()\n",
    "df_stocks = pd.DataFrame()\n",
    "for stock in stocks:\n",
    "    ticker_data = web.DataReader(stock, 'yahoo', start_date, end_date)\n",
    "    ticker_data[\"stock_name\"] = stock\n",
    "    # ticker_data = ticker_data.join(df_Covid)\n",
    "    df_stocks = df_stocks.append(ticker_data)\n",
    "    # print(df_stocks.info())\n",
    "df_stocks.to_csv(\"stocks.csv\")"
   ]
  },
  {
   "cell_type": "code",
   "execution_count": null,
   "metadata": {},
   "outputs": [],
   "source": []
  }
 ],
 "metadata": {
  "kernelspec": {
   "display_name": "conda_python3",
   "language": "python",
   "name": "conda_python3"
  },
  "language_info": {
   "codemirror_mode": {
    "name": "ipython",
    "version": 3
   },
   "file_extension": ".py",
   "mimetype": "text/x-python",
   "name": "python",
   "nbconvert_exporter": "python",
   "pygments_lexer": "ipython3",
   "version": "3.6.10"
  }
 },
 "nbformat": 4,
 "nbformat_minor": 4
}
